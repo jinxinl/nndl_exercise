{
 "cells": [
  {
   "cell_type": "markdown",
   "metadata": {},
   "source": [
    "## 准备数据"
   ]
  },
  {
   "cell_type": "code",
   "execution_count": 1,
   "metadata": {},
   "outputs": [],
   "source": [
    "import os\n",
    "import numpy as np\n",
    "#import tensorflow as tf\n",
    "#from tensorflow import keras\n",
    "#from tensorflow.keras import layers, optimizers, datasets\n",
    "import torch\n",
    "from torch import nn\n",
    "from torch.utils import data \n",
    "from torch.nn import functional as F\n",
    "import torchvision\n",
    "from torchvision import transforms\n",
    "\n",
    "#os.environ['TF_CPP_MIN_LOG_LEVEL'] = '2'  # or any {'0', '1', '2'}\n",
    "\n",
    "trans = transforms.ToTensor() # 将图像从PIL转换成float32\n",
    "def mnist_dataset():\n",
    "    mnist_train = torchvision.datasets.MNIST(\n",
    "        root=\"../data\",train=True,transform=trans,download=True)\n",
    "    mnist_test = torchvision.datasets.MNIST(\n",
    "        root=\"../data\",train=False,transform=trans,download=True)\n",
    "    x,y = next(iter(data.DataLoader(mnist_train,batch_size=len(mnist_train))))\n",
    "    x_test,y_test = next(iter(data.DataLoader(mnist_test,batch_size=len(mnist_test))))\n",
    "    \n",
    "    #(x, y), (x_test, y_test) = datasets.mnist.load_data()\n",
    "    #normalize\n",
    "    x = x/255.0\n",
    "    x_test = x_test/255.0\n",
    "    \n",
    "    return (x, y), (x_test, y_test)"
   ]
  },
  {
   "cell_type": "code",
   "execution_count": 2,
   "metadata": {},
   "outputs": [
    {
     "name": "stdout",
     "output_type": "stream",
     "text": [
      "[(1, 'a'), (2, 'b'), (3, 'c'), (4, 'd')]\n"
     ]
    }
   ],
   "source": [
    "print(list(zip([1, 2, 3, 4], ['a', 'b', 'c', 'd'])))"
   ]
  },
  {
   "cell_type": "markdown",
   "metadata": {},
   "source": [
    "## 建立模型"
   ]
  },
  {
   "cell_type": "code",
   "execution_count": 3,
   "metadata": {},
   "outputs": [],
   "source": [
    "class myModel(nn.Module):\n",
    "    def __init__(self):\n",
    "        ####################\n",
    "        '''声明模型对应的参数'''\n",
    "        ####################\n",
    "        super(myModel,self).__init__()\n",
    "        self.W1 = nn.Parameter(torch.randn(28*28,100),requires_grad=True) # X展平，第一层输出维度\n",
    "        self.W2 = nn.Parameter(torch.randn(100,10),requires_grad=True) # 第一层输出维度，第二层输出维度（10个类别）\n",
    "        self.b1 = nn.Parameter(torch.zeros(1,100),requires_grad=True)\n",
    "        self.b2 = nn.Parameter(torch.zeros(1,10),requires_grad=True)\n",
    "        \n",
    "    def __call__(self, x):\n",
    "        ####################\n",
    "        '''实现模型函数体，返回未归一化的logits'''\n",
    "        ####################\n",
    "        # 先展平x\n",
    "        x = x.reshape(-1,28*28)\n",
    "        h1 = F.relu(torch.matmul(x,self.W1) + self.b1)\n",
    "        logits = torch.matmul(h1,self.W2) + self.b2\n",
    "        #logits = h2\n",
    "        return logits\n",
    "        \n",
    "model = myModel()\n",
    "optimizer = torch.optim.Adam(model.parameters(),lr=0.01)"
   ]
  },
  {
   "cell_type": "markdown",
   "metadata": {},
   "source": [
    "## 计算 loss"
   ]
  },
  {
   "cell_type": "code",
   "execution_count": 4,
   "metadata": {},
   "outputs": [],
   "source": [
    "#@tf.function\n",
    "def compute_loss(logits, labels):\n",
    "    return F.cross_entropy(logits,labels)\n",
    "\n",
    "#@tf.function\n",
    "def compute_accuracy(logits, labels):\n",
    "    predictions = torch.argmax(logits, dim=1)\n",
    "    return torch.mean(torch.eq(predictions, labels).to(torch.float32))\n",
    "\n",
    "#@tf.function\n",
    "def train_one_step(model, optimizer, x, y):\n",
    "    logits = model(x)\n",
    "    loss = compute_loss(logits, y)\n",
    "\n",
    "    # compute gradient\n",
    "    #trainable_vars = [model.W1, model.W2, model.b1, model.b2]\n",
    "    #grads = tape.gradient(loss, trainable_vars)\n",
    "    #for g, v in zip(grads, trainable_vars):\n",
    "    #    v.assign_sub(0.01*g)\n",
    "    optimizer.zero_grad()\n",
    "    loss.backward()\n",
    "    optimizer.step()\n",
    "    accuracy = compute_accuracy(logits, y)\n",
    "\n",
    "    # loss and accuracy is scalar tensor\n",
    "    return loss, accuracy\n",
    "\n",
    "#@tf.function\n",
    "def test(model, x, y):\n",
    "    logits = model(x)\n",
    "    loss = compute_loss(logits, y)\n",
    "    accuracy = compute_accuracy(logits, y)\n",
    "    return loss, accuracy"
   ]
  },
  {
   "cell_type": "markdown",
   "metadata": {},
   "source": [
    "## 实际训练"
   ]
  },
  {
   "cell_type": "code",
   "execution_count": 6,
   "metadata": {},
   "outputs": [
    {
     "name": "stdout",
     "output_type": "stream",
     "text": [
      "epoch 0 : loss 0.71334535 ; accuracy 0.8441667\n",
      "epoch 1 : loss 0.70091605 ; accuracy 0.84601665\n",
      "epoch 2 : loss 0.6889953 ; accuracy 0.8477\n",
      "epoch 3 : loss 0.6775657 ; accuracy 0.84943336\n",
      "epoch 4 : loss 0.66659665 ; accuracy 0.8509667\n",
      "epoch 5 : loss 0.6560649 ; accuracy 0.85226667\n",
      "epoch 6 : loss 0.64595205 ; accuracy 0.8535333\n",
      "epoch 7 : loss 0.6362372 ; accuracy 0.85471666\n",
      "epoch 8 : loss 0.6268986 ; accuracy 0.85606664\n",
      "epoch 9 : loss 0.6179182 ; accuracy 0.8576\n",
      "epoch 10 : loss 0.60928035 ; accuracy 0.8588833\n",
      "epoch 11 : loss 0.6009675 ; accuracy 0.86055\n",
      "epoch 12 : loss 0.5929617 ; accuracy 0.86185\n",
      "epoch 13 : loss 0.58524966 ; accuracy 0.86303335\n",
      "epoch 14 : loss 0.57781833 ; accuracy 0.8642333\n",
      "epoch 15 : loss 0.57065165 ; accuracy 0.86535\n",
      "epoch 16 : loss 0.56373775 ; accuracy 0.8668\n",
      "epoch 17 : loss 0.557067 ; accuracy 0.8678667\n",
      "epoch 18 : loss 0.55062556 ; accuracy 0.8686\n",
      "epoch 19 : loss 0.54440343 ; accuracy 0.86918336\n",
      "epoch 20 : loss 0.53839123 ; accuracy 0.8702667\n",
      "epoch 21 : loss 0.53257895 ; accuracy 0.8710167\n",
      "epoch 22 : loss 0.5269575 ; accuracy 0.8719\n",
      "epoch 23 : loss 0.52151847 ; accuracy 0.8728167\n",
      "epoch 24 : loss 0.5162542 ; accuracy 0.8739\n",
      "epoch 25 : loss 0.51115686 ; accuracy 0.87486666\n",
      "epoch 26 : loss 0.5062194 ; accuracy 0.8757833\n",
      "epoch 27 : loss 0.50143456 ; accuracy 0.87655\n",
      "epoch 28 : loss 0.49679685 ; accuracy 0.8774833\n",
      "epoch 29 : loss 0.4922994 ; accuracy 0.8782167\n",
      "epoch 30 : loss 0.48793614 ; accuracy 0.87888336\n",
      "epoch 31 : loss 0.48370215 ; accuracy 0.87955\n",
      "epoch 32 : loss 0.479592 ; accuracy 0.88011664\n",
      "epoch 33 : loss 0.4756003 ; accuracy 0.8808333\n",
      "epoch 34 : loss 0.4717227 ; accuracy 0.8814\n",
      "epoch 35 : loss 0.46795475 ; accuracy 0.88196665\n",
      "epoch 36 : loss 0.46429244 ; accuracy 0.88243335\n",
      "epoch 37 : loss 0.46073106 ; accuracy 0.88305\n",
      "epoch 38 : loss 0.4572667 ; accuracy 0.88353336\n",
      "epoch 39 : loss 0.45389625 ; accuracy 0.8839\n",
      "epoch 40 : loss 0.45061535 ; accuracy 0.8844333\n",
      "epoch 41 : loss 0.44742042 ; accuracy 0.88483334\n",
      "epoch 42 : loss 0.44430864 ; accuracy 0.8854333\n",
      "epoch 43 : loss 0.44127712 ; accuracy 0.88588333\n",
      "epoch 44 : loss 0.43832266 ; accuracy 0.88636667\n",
      "epoch 45 : loss 0.43544242 ; accuracy 0.8867\n",
      "epoch 46 : loss 0.43263373 ; accuracy 0.8872833\n",
      "epoch 47 : loss 0.4298938 ; accuracy 0.8877\n",
      "epoch 48 : loss 0.42722 ; accuracy 0.88818336\n",
      "epoch 49 : loss 0.42461044 ; accuracy 0.8888\n",
      "test loss 0.40889618 ; accuracy 0.8938\n"
     ]
    }
   ],
   "source": [
    "train_data, test_data = mnist_dataset()\n",
    "for epoch in range(50):\n",
    "    loss, accuracy = train_one_step(model, optimizer, \n",
    "                                    train_data[0].to(torch.float32), \n",
    "                                    train_data[1].to(torch.int64))\n",
    "    print('epoch', epoch, ': loss', loss.detach().numpy(), '; accuracy', accuracy.detach().numpy())\n",
    "loss, accuracy = test(model, \n",
    "                      test_data[0].to(torch.float32), \n",
    "                      test_data[1].to(torch.int64))\n",
    "\n",
    "print('test loss', loss.detach().numpy(), '; accuracy', accuracy.detach().numpy())"
   ]
  }
 ],
 "metadata": {
  "kernelspec": {
   "display_name": "Python 3 (ipykernel)",
   "language": "python",
   "name": "python3"
  },
  "language_info": {
   "codemirror_mode": {
    "name": "ipython",
    "version": 3
   },
   "file_extension": ".py",
   "mimetype": "text/x-python",
   "name": "python",
   "nbconvert_exporter": "python",
   "pygments_lexer": "ipython3",
   "version": "3.9.21"
  }
 },
 "nbformat": 4,
 "nbformat_minor": 2
}
