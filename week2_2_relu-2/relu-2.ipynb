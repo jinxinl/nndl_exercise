{
 "cells": [
  {
   "cell_type": "markdown",
   "id": "5277be5a",
   "metadata": {},
   "source": [
    "# 使用两层 `ReLU` 网络拟合函数\n",
    "理论和实验证明，一个两层的 `ReLU` 网络能够逼近任意函数。以下是实验证明过程，步骤如下：\n",
    "- 自定义函数，根据函数表达式生成训练数据和测试数据\n",
    "- 构建模型，一个两层的 `ReLU` 网络\n",
    "- 使用训练数据训练模型\n",
    "- 使用测试数据评估拟合效果\n",
    "\n"
   ]
  },
  {
   "cell_type": "markdown",
   "id": "ee568ed8",
   "metadata": {},
   "source": [
    "## [自定义函数]\n",
    "函数：$y=3x^3+4x^2+5x+6$"
   ]
  },
  {
   "cell_type": "markdown",
   "id": "4a07d38b",
   "metadata": {},
   "source": [
    "## [数据采集]\n",
    "首先生成所需数据，由函数定义式可知， $x$ 有三个特征，并且是非线性相关"
   ]
  },
  {
   "cell_type": "code",
   "execution_count": 53,
   "id": "8eb31742",
   "metadata": {},
   "outputs": [],
   "source": [
    "%matplotlib inline\n",
    "import torch\n",
    "from torch import nn\n",
    "from torch.nn import functional as F\n",
    "import numpy as np\n",
    "import matplotlib.pyplot as plt"
   ]
  },
  {
   "cell_type": "code",
   "execution_count": 54,
   "id": "132c8c7b",
   "metadata": {},
   "outputs": [],
   "source": [
    "true_w2 = torch.tensor([3,4,5,],dtype=torch.float32)\n",
    "true_b2 = 6"
   ]
  },
  {
   "cell_type": "code",
   "execution_count": 55,
   "id": "13ae401f",
   "metadata": {},
   "outputs": [],
   "source": [
    "def synthetic_data(num_examples):\n",
    "    '''生成数据'''\n",
    "    x = torch.normal(0,1,(num_examples,3))\n",
    "    y = 3 * torch.pow(x[:,0],3) + 4 * torch.pow(x[:,1],2) + 5 * x[:,2] + 6\n",
    "    return x,y.reshape(-1,1)\n",
    "        "
   ]
  },
  {
   "cell_type": "code",
   "execution_count": 56,
   "id": "bcddfc42",
   "metadata": {},
   "outputs": [],
   "source": [
    "def scale_data(x,y):\n",
    "    '''数据标准化'''\n",
    "    x_mean = torch.mean(x)\n",
    "    x_std = torch.std(x)\n",
    "    y_mean = torch.mean(y)\n",
    "    y_std = torch.std(y)\n",
    "    \n",
    "    x_scale = (x - x_mean) / x_std\n",
    "    y_scale = (y - y_mean) / y_std\n",
    "    \n",
    "    return x_scale,y_scale"
   ]
  },
  {
   "cell_type": "code",
   "execution_count": 57,
   "id": "bae6608d",
   "metadata": {},
   "outputs": [
    {
     "data": {
      "text/plain": [
       "(torch.Size([1000, 3]), torch.Size([1000, 1]))"
      ]
     },
     "execution_count": 57,
     "metadata": {},
     "output_type": "execute_result"
    }
   ],
   "source": [
    "x,y = synthetic_data(1000)\n",
    "x,y = scale_data(x,y)\n",
    "x.shape,y.shape"
   ]
  },
  {
   "cell_type": "markdown",
   "id": "bdf1e97c",
   "metadata": {},
   "source": [
    "划分训练集和测试集"
   ]
  },
  {
   "cell_type": "code",
   "execution_count": 58,
   "id": "341fe3b7",
   "metadata": {},
   "outputs": [
    {
     "name": "stdout",
     "output_type": "stream",
     "text": [
      "training set size: torch.Size([700, 3])\n",
      "test set size: torch.Size([300, 3])\n"
     ]
    }
   ],
   "source": [
    "portion = 700\n",
    "x_train,y_train = x[:portion,:],y[:portion,:]\n",
    "x_test,y_test = x[portion:,:],y[portion:,:]\n",
    "print(f\"training set size: {x_train.shape}\")\n",
    "print(f\"test set size: {x_test.shape}\")"
   ]
  },
  {
   "cell_type": "markdown",
   "id": "80b747dd",
   "metadata": {},
   "source": [
    "使用散点图可视化各个维度的特征与标签的关系"
   ]
  },
  {
   "cell_type": "code",
   "execution_count": 59,
   "id": "9cc6d71e",
   "metadata": {},
   "outputs": [
    {
     "data": {
      "text/plain": [
       "<matplotlib.collections.PathCollection at 0x1e1675e2dc0>"
      ]
     },
     "execution_count": 59,
     "metadata": {},
     "output_type": "execute_result"
    },
    {
     "data": {
      "image/png": "[encoded data removed]",
      "text/plain": [
       "<Figure size 500x300 with 1 Axes>"
      ]
     },
     "metadata": {},
     "output_type": "display_data"
    }
   ],
   "source": [
    "plt.figure(figsize=(5,3))\n",
    "plt.scatter(x[:,0].detach().numpy(),y.detach().numpy(),1)\n",
    "plt.scatter(x[:,1].detach().numpy(),y.detach().numpy(),1)\n",
    "plt.scatter(x[:,2].detach().numpy(),y.detach().numpy(),1)"
   ]
  },
  {
   "cell_type": "markdown",
   "id": "41e22dcb",
   "metadata": {},
   "source": [
    "虽然点与点之间有重叠，但是可以看到前两个特征与目标 $y$ 是非线性关系，最后一维特征与 $y$ 大致呈线性关系。这也与定义的函数相符合。"
   ]
  },
  {
   "cell_type": "markdown",
   "id": "ee235e6e",
   "metadata": {},
   "source": [
    "## 构建模型"
   ]
  },
  {
   "cell_type": "code",
   "execution_count": 60,
   "id": "261ebb8f",
   "metadata": {},
   "outputs": [],
   "source": [
    "class ReLU_2(nn.Module):\n",
    "    def __init__(self,num_inputs,num_hidden1,num_hidden2,num_outputs):\n",
    "        super(ReLU_2,self).__init__()\n",
    "        self.W1 = nn.Parameter(torch.normal(0,0.1,size=(num_inputs,num_hidden1),requires_grad=True))\n",
    "        self.b1 = nn.Parameter(torch.zeros((1,num_hidden1),requires_grad=True))\n",
    "        \n",
    "        self.W2 = nn.Parameter(torch.normal(0,0.1,size=(num_hidden1,num_hidden2),requires_grad=True))\n",
    "        self.b2 = nn.Parameter(torch.zeros((1,num_hidden2),requires_grad=True))\n",
    "        \n",
    "        self.W3 = nn.Parameter(torch.normal(0,0.1,size=(num_hidden2,num_outputs),requires_grad=True))\n",
    "        self.b3 = nn.Parameter(torch.zeros((1,num_outputs),requires_grad=True))\n",
    "    \n",
    "    def forward(self,x):\n",
    "        h1 = F.relu(torch.matmul(x,self.W1)+self.b1)\n",
    "        h2 = F.relu(torch.matmul(h1,self.W2)+self.b2)\n",
    "        outputs = torch.matmul(h2,self.W3)+self.b3\n",
    "        return outputs\n",
    "    \n"
   ]
  },
  {
   "cell_type": "code",
   "execution_count": 61,
   "id": "cbe008f3",
   "metadata": {},
   "outputs": [],
   "source": [
    "num_epochs,lr = 200,0.1\n",
    "relu_2 = ReLU_2(num_inputs=3,num_hidden1=4,num_hidden2=6,num_outputs=1)\n",
    "optimizer = torch.optim.Adam(relu_2.parameters(),lr=lr)"
   ]
  },
  {
   "cell_type": "markdown",
   "id": "f925e5ad",
   "metadata": {},
   "source": [
    "## [训练模型]\n"
   ]
  },
  {
   "cell_type": "code",
   "execution_count": 62,
   "id": "50ffeec9",
   "metadata": {},
   "outputs": [],
   "source": [
    "def MSE_loss(y_hat,y):\n",
    "    return torch.mean((y_hat - y.reshape(y_hat.shape)) ** 2)"
   ]
  },
  {
   "cell_type": "code",
   "execution_count": 63,
   "id": "cc40bb09",
   "metadata": {},
   "outputs": [],
   "source": [
    "losses = []\n",
    "def train(net,x,y,num_epochs,lr,optimizer):\n",
    "    for epoch in range(num_epochs):\n",
    "        y_hat = net(x)\n",
    "        loss = MSE_loss(y_hat,y)\n",
    "        losses.append(loss.detach())\n",
    "        optimizer.zero_grad()\n",
    "        loss.backward()\n",
    "        optimizer.step()\n",
    "        print(f\"epoch: {epoch+1}\\tloss: {loss}\")   \n",
    "    return y_hat"
   ]
  },
  {
   "cell_type": "code",
   "execution_count": 64,
   "id": "4905c274",
   "metadata": {},
   "outputs": [
    {
     "name": "stdout",
     "output_type": "stream",
     "text": [
      "epoch: 1\tloss: 0.8708505630493164\n",
      "epoch: 2\tloss: 0.862799346446991\n",
      "epoch: 3\tloss: 0.822033166885376\n",
      "epoch: 4\tloss: 0.7487866282463074\n",
      "epoch: 5\tloss: 0.6568893194198608\n",
      "epoch: 6\tloss: 0.5800580978393555\n",
      "epoch: 7\tloss: 0.5139411091804504\n",
      "epoch: 8\tloss: 0.5113966464996338\n",
      "epoch: 9\tloss: 0.5230138897895813\n",
      "epoch: 10\tloss: 0.5129273533821106\n",
      "epoch: 11\tloss: 0.47555986046791077\n",
      "epoch: 12\tloss: 0.435470849275589\n",
      "epoch: 13\tloss: 0.41098228096961975\n",
      "epoch: 14\tloss: 0.39447152614593506\n",
      "epoch: 15\tloss: 0.38474220037460327\n",
      "epoch: 16\tloss: 0.3712042272090912\n",
      "epoch: 17\tloss: 0.35353395342826843\n",
      "epoch: 18\tloss: 0.3312888741493225\n",
      "epoch: 19\tloss: 0.30406448245048523\n",
      "epoch: 20\tloss: 0.27901023626327515\n",
      "epoch: 21\tloss: 0.25743770599365234\n",
      "epoch: 22\tloss: 0.24557143449783325\n",
      "epoch: 23\tloss: 0.24266542494297028\n",
      "epoch: 24\tloss: 0.24132414162158966\n",
      "epoch: 25\tloss: 0.2360493242740631\n",
      "epoch: 26\tloss: 0.22872048616409302\n",
      "epoch: 27\tloss: 0.2225431650876999\n",
      "epoch: 28\tloss: 0.22020666301250458\n",
      "epoch: 29\tloss: 0.21632574498653412\n",
      "epoch: 30\tloss: 0.21174955368041992\n",
      "epoch: 31\tloss: 0.20663829147815704\n",
      "epoch: 32\tloss: 0.20400479435920715\n",
      "epoch: 33\tloss: 0.2008606195449829\n",
      "epoch: 34\tloss: 0.1967325061559677\n",
      "epoch: 35\tloss: 0.1929447501897812\n",
      "epoch: 36\tloss: 0.19027918577194214\n",
      "epoch: 37\tloss: 0.18864206969738007\n",
      "epoch: 38\tloss: 0.18726438283920288\n",
      "epoch: 39\tloss: 0.18544115126132965\n",
      "epoch: 40\tloss: 0.18360331654548645\n",
      "epoch: 41\tloss: 0.1820075958967209\n",
      "epoch: 42\tloss: 0.18071290850639343\n",
      "epoch: 43\tloss: 0.17896528542041779\n",
      "epoch: 44\tloss: 0.1762697547674179\n",
      "epoch: 45\tloss: 0.17427952587604523\n",
      "epoch: 46\tloss: 0.1730915904045105\n",
      "epoch: 47\tloss: 0.17183971405029297\n",
      "epoch: 48\tloss: 0.17083825170993805\n",
      "epoch: 49\tloss: 0.17007653415203094\n",
      "epoch: 50\tloss: 0.16899295151233673\n",
      "epoch: 51\tloss: 0.16751672327518463\n",
      "epoch: 52\tloss: 0.16559912264347076\n",
      "epoch: 53\tloss: 0.16384239494800568\n",
      "epoch: 54\tloss: 0.16220268607139587\n",
      "epoch: 55\tloss: 0.1605042964220047\n",
      "epoch: 56\tloss: 0.15924055874347687\n",
      "epoch: 57\tloss: 0.15898050367832184\n",
      "epoch: 58\tloss: 0.15952126681804657\n",
      "epoch: 59\tloss: 0.1613941639661789\n",
      "epoch: 60\tloss: 0.15835945308208466\n",
      "epoch: 61\tloss: 0.15206459164619446\n",
      "epoch: 62\tloss: 0.14926576614379883\n",
      "epoch: 63\tloss: 0.15159349143505096\n",
      "epoch: 64\tloss: 0.15043719112873077\n",
      "epoch: 65\tloss: 0.14491529762744904\n",
      "epoch: 66\tloss: 0.14553344249725342\n",
      "epoch: 67\tloss: 0.14700688421726227\n",
      "epoch: 68\tloss: 0.14185573160648346\n",
      "epoch: 69\tloss: 0.1397881805896759\n",
      "epoch: 70\tloss: 0.14052575826644897\n",
      "epoch: 71\tloss: 0.1374090164899826\n",
      "epoch: 72\tloss: 0.13440349698066711\n",
      "epoch: 73\tloss: 0.13417640328407288\n",
      "epoch: 74\tloss: 0.132404625415802\n",
      "epoch: 75\tloss: 0.12962858378887177\n",
      "epoch: 76\tloss: 0.12836121022701263\n",
      "epoch: 77\tloss: 0.1274869441986084\n",
      "epoch: 78\tloss: 0.12479934841394424\n",
      "epoch: 79\tloss: 0.12301456183195114\n",
      "epoch: 80\tloss: 0.12261620908975601\n",
      "epoch: 81\tloss: 0.12211339920759201\n",
      "epoch: 82\tloss: 0.11986198276281357\n",
      "epoch: 83\tloss: 0.11750765889883041\n",
      "epoch: 84\tloss: 0.11634402722120285\n",
      "epoch: 85\tloss: 0.1151348352432251\n",
      "epoch: 86\tloss: 0.11314240843057632\n",
      "epoch: 87\tloss: 0.11110229790210724\n",
      "epoch: 88\tloss: 0.10932100564241409\n",
      "epoch: 89\tloss: 0.10814093798398972\n",
      "epoch: 90\tloss: 0.10685550421476364\n",
      "epoch: 91\tloss: 0.10515160858631134\n",
      "epoch: 92\tloss: 0.1035422831773758\n",
      "epoch: 93\tloss: 0.10199825465679169\n",
      "epoch: 94\tloss: 0.10096969455480576\n",
      "epoch: 95\tloss: 0.10015436261892319\n",
      "epoch: 96\tloss: 0.10098768025636673\n",
      "epoch: 97\tloss: 0.1002182736992836\n",
      "epoch: 98\tloss: 0.09873595088720322\n",
      "epoch: 99\tloss: 0.09897700697183609\n",
      "epoch: 100\tloss: 0.09766941517591476\n",
      "epoch: 101\tloss: 0.09720441699028015\n",
      "epoch: 102\tloss: 0.09639956057071686\n",
      "epoch: 103\tloss: 0.09593306481838226\n",
      "epoch: 104\tloss: 0.0951983854174614\n",
      "epoch: 105\tloss: 0.09489250183105469\n",
      "epoch: 106\tloss: 0.09437904506921768\n",
      "epoch: 107\tloss: 0.0939168855547905\n",
      "epoch: 108\tloss: 0.09388256818056107\n",
      "epoch: 109\tloss: 0.09401269257068634\n",
      "epoch: 110\tloss: 0.094101682305336\n",
      "epoch: 111\tloss: 0.09475833177566528\n",
      "epoch: 112\tloss: 0.09555111825466156\n",
      "epoch: 113\tloss: 0.09588129073381424\n",
      "epoch: 114\tloss: 0.09606896340847015\n",
      "epoch: 115\tloss: 0.09501219540834427\n",
      "epoch: 116\tloss: 0.09320072829723358\n",
      "epoch: 117\tloss: 0.09162173420190811\n",
      "epoch: 118\tloss: 0.09135967493057251\n",
      "epoch: 119\tloss: 0.09219054132699966\n",
      "epoch: 120\tloss: 0.09300969541072845\n",
      "epoch: 121\tloss: 0.09312082827091217\n",
      "epoch: 122\tloss: 0.09238485246896744\n",
      "epoch: 123\tloss: 0.09139560163021088\n",
      "epoch: 124\tloss: 0.09114965796470642\n",
      "epoch: 125\tloss: 0.09145939350128174\n",
      "epoch: 126\tloss: 0.0920267403125763\n",
      "epoch: 127\tloss: 0.09212863445281982\n",
      "epoch: 128\tloss: 0.09174356609582901\n",
      "epoch: 129\tloss: 0.09124208241701126\n",
      "epoch: 130\tloss: 0.09084118157625198\n",
      "epoch: 131\tloss: 0.09083093702793121\n",
      "epoch: 132\tloss: 0.09106229245662689\n",
      "epoch: 133\tloss: 0.09129847586154938\n",
      "epoch: 134\tloss: 0.09134622663259506\n",
      "epoch: 135\tloss: 0.0911935344338417\n",
      "epoch: 136\tloss: 0.0908232256770134\n",
      "epoch: 137\tloss: 0.09057937562465668\n",
      "epoch: 138\tloss: 0.09047134220600128\n",
      "epoch: 139\tloss: 0.0904756486415863\n",
      "epoch: 140\tloss: 0.09061139822006226\n",
      "epoch: 141\tloss: 0.09072791039943695\n",
      "epoch: 142\tloss: 0.09086941182613373\n",
      "epoch: 143\tloss: 0.09093360602855682\n",
      "epoch: 144\tloss: 0.09107830375432968\n",
      "epoch: 145\tloss: 0.09106781333684921\n",
      "epoch: 146\tloss: 0.09112750738859177\n",
      "epoch: 147\tloss: 0.091117724776268\n",
      "epoch: 148\tloss: 0.091199591755867\n",
      "epoch: 149\tloss: 0.0912463366985321\n",
      "epoch: 150\tloss: 0.091334268450737\n",
      "epoch: 151\tloss: 0.0913759246468544\n",
      "epoch: 152\tloss: 0.09152521193027496\n",
      "epoch: 153\tloss: 0.0916016697883606\n",
      "epoch: 154\tloss: 0.0917109027504921\n",
      "epoch: 155\tloss: 0.09171099215745926\n",
      "epoch: 156\tloss: 0.09174304455518723\n",
      "epoch: 157\tloss: 0.09161843359470367\n",
      "epoch: 158\tloss: 0.09148392826318741\n",
      "epoch: 159\tloss: 0.09119764715433121\n",
      "epoch: 160\tloss: 0.0909687727689743\n",
      "epoch: 161\tloss: 0.09069914370775223\n",
      "epoch: 162\tloss: 0.09052223712205887\n",
      "epoch: 163\tloss: 0.09038976579904556\n",
      "epoch: 164\tloss: 0.09035807102918625\n",
      "epoch: 165\tloss: 0.09035884588956833\n",
      "epoch: 166\tloss: 0.09036897122859955\n",
      "epoch: 167\tloss: 0.09038703143596649\n",
      "epoch: 168\tloss: 0.09054698050022125\n",
      "epoch: 169\tloss: 0.09062234312295914\n",
      "epoch: 170\tloss: 0.0908389687538147\n",
      "epoch: 171\tloss: 0.09119388461112976\n",
      "epoch: 172\tloss: 0.09169713407754898\n",
      "epoch: 173\tloss: 0.09256149083375931\n",
      "epoch: 174\tloss: 0.09362580627202988\n",
      "epoch: 175\tloss: 0.09551642090082169\n",
      "epoch: 176\tloss: 0.09647881984710693\n",
      "epoch: 177\tloss: 0.09717124700546265\n",
      "epoch: 178\tloss: 0.09489388763904572\n",
      "epoch: 179\tloss: 0.09221091866493225\n",
      "epoch: 180\tloss: 0.09043792635202408\n",
      "epoch: 181\tloss: 0.09092585742473602\n",
      "epoch: 182\tloss: 0.0926586166024208\n",
      "epoch: 183\tloss: 0.09343505650758743\n",
      "epoch: 184\tloss: 0.09287180006504059\n",
      "epoch: 185\tloss: 0.09117405116558075\n",
      "epoch: 186\tloss: 0.09034958481788635\n",
      "epoch: 187\tloss: 0.09090675413608551\n",
      "epoch: 188\tloss: 0.09185237437486649\n",
      "epoch: 189\tloss: 0.09224249422550201\n",
      "epoch: 190\tloss: 0.09137247502803802\n",
      "epoch: 191\tloss: 0.09048974514007568\n",
      "epoch: 192\tloss: 0.09040983021259308\n",
      "epoch: 193\tloss: 0.09094389528036118\n",
      "epoch: 194\tloss: 0.09140569716691971\n",
      "epoch: 195\tloss: 0.09123244136571884\n",
      "epoch: 196\tloss: 0.09082537144422531\n",
      "epoch: 197\tloss: 0.09039097279310226\n",
      "epoch: 198\tloss: 0.09037744998931885\n",
      "epoch: 199\tloss: 0.09073476493358612\n",
      "epoch: 200\tloss: 0.09095720201730728\n"
     ]
    }
   ],
   "source": [
    "y_hat = train(relu_2,x_train,y_train,num_epochs,lr,optimizer)"
   ]
  },
  {
   "cell_type": "code",
   "execution_count": 65,
   "id": "90693145",
   "metadata": {},
   "outputs": [
    {
     "data": {
      "text/plain": [
       "[<matplotlib.lines.Line2D at 0x1e167636700>]"
      ]
     },
     "execution_count": 65,
     "metadata": {},
     "output_type": "execute_result"
    },
    {
     "data": {
      "image/png": "[encoded data removed]",
      "text/plain": [
       "<Figure size 500x300 with 1 Axes>"
      ]
     },
     "metadata": {},
     "output_type": "display_data"
    }
   ],
   "source": [
    "plt.figure(figsize=(5,3))\n",
    "plt.plot(np.arange(1,num_epochs+1),losses)"
   ]
  },
  {
   "cell_type": "code",
   "execution_count": 66,
   "id": "3e082369",
   "metadata": {},
   "outputs": [
    {
     "data": {
      "text/plain": [
       "<matplotlib.collections.PathCollection at 0x1e16a323eb0>"
      ]
     },
     "execution_count": 66,
     "metadata": {},
     "output_type": "execute_result"
    },
    {
     "data": {
      "image/png": "[encoded data removed]",
      "text/plain": [
       "<Figure size 500x300 with 1 Axes>"
      ]
     },
     "metadata": {},
     "output_type": "display_data"
    }
   ],
   "source": [
    "plt.figure(figsize=(5,3))\n",
    "plt.scatter(y_train.detach().numpy(),y_hat.detach().numpy(),1)\n",
    "#y_train.shape,y_hat.shape"
   ]
  },
  {
   "cell_type": "markdown",
   "id": "99f5f159",
   "metadata": {},
   "source": [
    "可以看到图中 $y_{train}-\\hat{y}$ 是一条接近于 $y=x$ 的曲线，说明训练集上拟合效果较好"
   ]
  },
  {
   "cell_type": "markdown",
   "id": "c10b82d3",
   "metadata": {},
   "source": [
    "## [评估]"
   ]
  },
  {
   "cell_type": "code",
   "execution_count": 67,
   "id": "2952ff90",
   "metadata": {},
   "outputs": [
    {
     "name": "stdout",
     "output_type": "stream",
     "text": [
      "loss on test set: 0.1629670113325119\n"
     ]
    }
   ],
   "source": [
    "def test(net,x,y):\n",
    "    y_hat = net(x)\n",
    "    loss = MSE_loss(y_hat,y)\n",
    "    print(f\"loss on test set: {loss}\")\n",
    "    return y_hat\n",
    "\n",
    "y_hat = test(relu_2,x_test,y_test)"
   ]
  },
  {
   "cell_type": "code",
   "execution_count": 68,
   "id": "ae976675",
   "metadata": {},
   "outputs": [
    {
     "data": {
      "text/plain": [
       "<matplotlib.collections.PathCollection at 0x1e16a394340>"
      ]
     },
     "execution_count": 68,
     "metadata": {},
     "output_type": "execute_result"
    },
    {
     "data": {
      "image/png": "[encoded data removed]",
      "text/plain": [
       "<Figure size 500x300 with 1 Axes>"
      ]
     },
     "metadata": {},
     "output_type": "display_data"
    }
   ],
   "source": [
    "plt.figure(figsize=(5,3))\n",
    "plt.scatter(y_test.detach().numpy(),y_hat.detach().numpy(),1)"
   ]
  },
  {
   "cell_type": "markdown",
   "id": "889f7c06",
   "metadata": {},
   "source": [
    "从图中可以看出，$y_{test}-\\hat{y}$ 是一条接近 $y=x$ 的曲线，说明模型在测试集上的拟合效果同样良好"
   ]
  }
 ],
 "metadata": {
  "kernelspec": {
   "display_name": "Python 3 (ipykernel)",
   "language": "python",
   "name": "python3"
  },
  "language_info": {
   "codemirror_mode": {
    "name": "ipython",
    "version": 3
   },
   "file_extension": ".py",
   "mimetype": "text/x-python",
   "name": "python",
   "nbconvert_exporter": "python",
   "pygments_lexer": "ipython3",
   "version": "3.9.21"
  }
 },
 "nbformat": 4,
 "nbformat_minor": 5
}
